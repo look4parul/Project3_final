{
 "cells": [
  {
   "cell_type": "code",
   "execution_count": 1,
   "metadata": {},
   "outputs": [],
   "source": [
    "import numpy as np\n",
    "from sklearn.feature_extraction.text import CountVectorizer\n",
    "from sklearn.preprocessing import Normalizer\n",
    "from sklearn.pipeline import make_pipeline\n",
    "from sklearn.metrics.pairwise import cosine_similarity\n",
    "import pandas as pd "
   ]
  },
  {
   "cell_type": "code",
   "execution_count": 2,
   "metadata": {},
   "outputs": [],
   "source": [
    "df = pd.read_csv(\"nutrition.csv\")"
   ]
  },
  {
   "cell_type": "code",
   "execution_count": 3,
   "metadata": {},
   "outputs": [
    {
     "data": {
      "text/html": [
       "<div>\n",
       "<style scoped>\n",
       "    .dataframe tbody tr th:only-of-type {\n",
       "        vertical-align: middle;\n",
       "    }\n",
       "\n",
       "    .dataframe tbody tr th {\n",
       "        vertical-align: top;\n",
       "    }\n",
       "\n",
       "    .dataframe thead th {\n",
       "        text-align: right;\n",
       "    }\n",
       "</style>\n",
       "<table border=\"1\" class=\"dataframe\">\n",
       "  <thead>\n",
       "    <tr style=\"text-align: right;\">\n",
       "      <th></th>\n",
       "      <th>FdGrp_Cd</th>\n",
       "      <th>Long_Desc</th>\n",
       "      <th>NDB_No</th>\n",
       "      <th>Shrt_Desc</th>\n",
       "      <th>Water_g</th>\n",
       "      <th>Energ_Kcal</th>\n",
       "      <th>Protein_g</th>\n",
       "      <th>Lipid_Tot_g</th>\n",
       "      <th>Ash_g</th>\n",
       "      <th>Carbohydrt_g</th>\n",
       "      <th>...</th>\n",
       "      <th>Vit_K_mcg</th>\n",
       "      <th>FA_Sat_g</th>\n",
       "      <th>FA_Mono_g</th>\n",
       "      <th>FA_Poly_g</th>\n",
       "      <th>Cholestrl_g</th>\n",
       "      <th>GmWt_1</th>\n",
       "      <th>GmWt_Desc1</th>\n",
       "      <th>GmWt_2</th>\n",
       "      <th>GmWt_Desc2</th>\n",
       "      <th>Refuse_Pct</th>\n",
       "    </tr>\n",
       "  </thead>\n",
       "  <tbody>\n",
       "    <tr>\n",
       "      <th>0</th>\n",
       "      <td>100</td>\n",
       "      <td>Butter, salted</td>\n",
       "      <td>1001</td>\n",
       "      <td>BUTTER,WITH SALT</td>\n",
       "      <td>15.87</td>\n",
       "      <td>717</td>\n",
       "      <td>0.85</td>\n",
       "      <td>81.11</td>\n",
       "      <td>2.11</td>\n",
       "      <td>0.06</td>\n",
       "      <td>...</td>\n",
       "      <td>7.0</td>\n",
       "      <td>51.368</td>\n",
       "      <td>21.021</td>\n",
       "      <td>3.043</td>\n",
       "      <td>215</td>\n",
       "      <td>5.00</td>\n",
       "      <td>1 pat,  (1\" sq, 1/3\" high)</td>\n",
       "      <td>14.2</td>\n",
       "      <td>1 tbsp</td>\n",
       "      <td>0</td>\n",
       "    </tr>\n",
       "    <tr>\n",
       "      <th>1</th>\n",
       "      <td>100</td>\n",
       "      <td>Butter, whipped, with salt</td>\n",
       "      <td>1002</td>\n",
       "      <td>BUTTER,WHIPPED,W/ SALT</td>\n",
       "      <td>16.72</td>\n",
       "      <td>718</td>\n",
       "      <td>0.49</td>\n",
       "      <td>78.30</td>\n",
       "      <td>1.62</td>\n",
       "      <td>2.87</td>\n",
       "      <td>...</td>\n",
       "      <td>4.6</td>\n",
       "      <td>45.390</td>\n",
       "      <td>19.874</td>\n",
       "      <td>3.331</td>\n",
       "      <td>225</td>\n",
       "      <td>3.80</td>\n",
       "      <td>1 pat,  (1\" sq, 1/3\" high)</td>\n",
       "      <td>9.4</td>\n",
       "      <td>1 tbsp</td>\n",
       "      <td>0</td>\n",
       "    </tr>\n",
       "    <tr>\n",
       "      <th>2</th>\n",
       "      <td>100</td>\n",
       "      <td>Butter oil, anhydrous</td>\n",
       "      <td>1003</td>\n",
       "      <td>BUTTER OIL,ANHYDROUS</td>\n",
       "      <td>0.24</td>\n",
       "      <td>876</td>\n",
       "      <td>0.28</td>\n",
       "      <td>99.48</td>\n",
       "      <td>0.00</td>\n",
       "      <td>0.00</td>\n",
       "      <td>...</td>\n",
       "      <td>8.6</td>\n",
       "      <td>61.924</td>\n",
       "      <td>28.732</td>\n",
       "      <td>3.694</td>\n",
       "      <td>256</td>\n",
       "      <td>12.80</td>\n",
       "      <td>1 tbsp</td>\n",
       "      <td>205.0</td>\n",
       "      <td>1 cup</td>\n",
       "      <td>0</td>\n",
       "    </tr>\n",
       "    <tr>\n",
       "      <th>3</th>\n",
       "      <td>100</td>\n",
       "      <td>Cheese, blue</td>\n",
       "      <td>1004</td>\n",
       "      <td>CHEESE,BLUE</td>\n",
       "      <td>42.41</td>\n",
       "      <td>353</td>\n",
       "      <td>21.40</td>\n",
       "      <td>28.74</td>\n",
       "      <td>5.11</td>\n",
       "      <td>2.34</td>\n",
       "      <td>...</td>\n",
       "      <td>2.4</td>\n",
       "      <td>18.669</td>\n",
       "      <td>7.778</td>\n",
       "      <td>0.800</td>\n",
       "      <td>75</td>\n",
       "      <td>28.35</td>\n",
       "      <td>1 oz</td>\n",
       "      <td>17.0</td>\n",
       "      <td>1 cubic inch</td>\n",
       "      <td>0</td>\n",
       "    </tr>\n",
       "    <tr>\n",
       "      <th>4</th>\n",
       "      <td>100</td>\n",
       "      <td>Cheese, brick</td>\n",
       "      <td>1005</td>\n",
       "      <td>CHEESE,BRICK</td>\n",
       "      <td>41.11</td>\n",
       "      <td>371</td>\n",
       "      <td>23.24</td>\n",
       "      <td>29.68</td>\n",
       "      <td>3.18</td>\n",
       "      <td>2.79</td>\n",
       "      <td>...</td>\n",
       "      <td>2.5</td>\n",
       "      <td>18.764</td>\n",
       "      <td>8.598</td>\n",
       "      <td>0.784</td>\n",
       "      <td>94</td>\n",
       "      <td>132.00</td>\n",
       "      <td>1 cup, diced</td>\n",
       "      <td>113.0</td>\n",
       "      <td>1 cup, shredded</td>\n",
       "      <td>0</td>\n",
       "    </tr>\n",
       "  </tbody>\n",
       "</table>\n",
       "<p>5 rows × 55 columns</p>\n",
       "</div>"
      ],
      "text/plain": [
       "   FdGrp_Cd                   Long_Desc  NDB_No               Shrt_Desc  \\\n",
       "0       100              Butter, salted    1001        BUTTER,WITH SALT   \n",
       "1       100  Butter, whipped, with salt    1002  BUTTER,WHIPPED,W/ SALT   \n",
       "2       100       Butter oil, anhydrous    1003    BUTTER OIL,ANHYDROUS   \n",
       "3       100                Cheese, blue    1004             CHEESE,BLUE   \n",
       "4       100               Cheese, brick    1005            CHEESE,BRICK   \n",
       "\n",
       "   Water_g  Energ_Kcal  Protein_g  Lipid_Tot_g  Ash_g  Carbohydrt_g  ...  \\\n",
       "0    15.87         717       0.85        81.11   2.11          0.06  ...   \n",
       "1    16.72         718       0.49        78.30   1.62          2.87  ...   \n",
       "2     0.24         876       0.28        99.48   0.00          0.00  ...   \n",
       "3    42.41         353      21.40        28.74   5.11          2.34  ...   \n",
       "4    41.11         371      23.24        29.68   3.18          2.79  ...   \n",
       "\n",
       "   Vit_K_mcg  FA_Sat_g  FA_Mono_g  FA_Poly_g  Cholestrl_g  GmWt_1  \\\n",
       "0        7.0    51.368     21.021      3.043          215    5.00   \n",
       "1        4.6    45.390     19.874      3.331          225    3.80   \n",
       "2        8.6    61.924     28.732      3.694          256   12.80   \n",
       "3        2.4    18.669      7.778      0.800           75   28.35   \n",
       "4        2.5    18.764      8.598      0.784           94  132.00   \n",
       "\n",
       "                   GmWt_Desc1  GmWt_2       GmWt_Desc2  Refuse_Pct  \n",
       "0  1 pat,  (1\" sq, 1/3\" high)    14.2           1 tbsp           0  \n",
       "1  1 pat,  (1\" sq, 1/3\" high)     9.4           1 tbsp           0  \n",
       "2                      1 tbsp   205.0            1 cup           0  \n",
       "3                        1 oz    17.0     1 cubic inch           0  \n",
       "4                1 cup, diced   113.0  1 cup, shredded           0  \n",
       "\n",
       "[5 rows x 55 columns]"
      ]
     },
     "execution_count": 3,
     "metadata": {},
     "output_type": "execute_result"
    }
   ],
   "source": [
    "df.head()"
   ]
  },
  {
   "cell_type": "code",
   "execution_count": 4,
   "metadata": {},
   "outputs": [
    {
     "data": {
      "text/plain": [
       "array(['Butter, salted', 'Butter, whipped, with salt',\n",
       "       'Butter oil, anhydrous', ..., 'Syrup, Cane',\n",
       "       'Mollusks, snail, raw', 'Turtle, green, raw'], dtype=object)"
      ]
     },
     "execution_count": 4,
     "metadata": {},
     "output_type": "execute_result"
    }
   ],
   "source": [
    "X_text = df[\"Long_Desc\"].values\n",
    "X_text"
   ]
  },
  {
   "cell_type": "code",
   "execution_count": 5,
   "metadata": {},
   "outputs": [],
   "source": [
    "cv = make_pipeline(\n",
    "    CountVectorizer(\n",
    "            ngram_range=(3, 7),\n",
    "            analyzer=\"char\"\n",
    "        ),\n",
    "    Normalizer()\n",
    ")"
   ]
  },
  {
   "cell_type": "code",
   "execution_count": 6,
   "metadata": {},
   "outputs": [
    {
     "data": {
      "text/plain": [
       "Pipeline(memory=None,\n",
       "         steps=[('countvectorizer',\n",
       "                 CountVectorizer(analyzer='char', binary=False,\n",
       "                                 decode_error='strict',\n",
       "                                 dtype=<class 'numpy.int64'>, encoding='utf-8',\n",
       "                                 input='content', lowercase=True, max_df=1.0,\n",
       "                                 max_features=None, min_df=1,\n",
       "                                 ngram_range=(3, 7), preprocessor=None,\n",
       "                                 stop_words=None, strip_accents=None,\n",
       "                                 token_pattern='(?u)\\\\b\\\\w\\\\w+\\\\b',\n",
       "                                 tokenizer=None, vocabulary=None)),\n",
       "                ('normalizer', Normalizer(copy=True, norm='l2'))],\n",
       "         verbose=False)"
      ]
     },
     "execution_count": 6,
     "metadata": {},
     "output_type": "execute_result"
    }
   ],
   "source": [
    "cv.fit(X_text)"
   ]
  },
  {
   "cell_type": "code",
   "execution_count": 7,
   "metadata": {},
   "outputs": [],
   "source": [
    "X = cv.transform(X_text)"
   ]
  },
  {
   "cell_type": "code",
   "execution_count": 8,
   "metadata": {},
   "outputs": [],
   "source": [
    "X_term = cv.transform([\"choclte chip sookies\"])\n",
    "# text_matrix = X_norm.todense()"
   ]
  },
  {
   "cell_type": "code",
   "execution_count": 9,
   "metadata": {},
   "outputs": [],
   "source": [
    "simularities = cosine_similarity(X_term, X)"
   ]
  },
  {
   "cell_type": "code",
   "execution_count": 10,
   "metadata": {},
   "outputs": [
    {
     "data": {
      "text/plain": [
       "array([0.02208631, 0.01475703, 0.        , ..., 0.        , 0.        ,\n",
       "       0.        ])"
      ]
     },
     "execution_count": 10,
     "metadata": {},
     "output_type": "execute_result"
    }
   ],
   "source": [
    "simularities[0]"
   ]
  },
  {
   "cell_type": "code",
   "execution_count": 11,
   "metadata": {},
   "outputs": [],
   "source": [
    "k = 10\n",
    "result = np.sort(np.argpartition(simularities[0], len(simularities[0]) - k)[-k:])\n",
    "#np.sort(np.argpartition(arr, len(arr) - k)[-k:])"
   ]
  },
  {
   "cell_type": "code",
   "execution_count": 12,
   "metadata": {},
   "outputs": [],
   "source": [
    "#idxmax = np.argmax(simularities[0])"
   ]
  },
  {
   "cell_type": "code",
   "execution_count": 13,
   "metadata": {},
   "outputs": [
    {
     "data": {
      "text/plain": [
       "7835                  FAMOUS AMOS, Chocolate Chip Cookies\n",
       "7836            FAMOUS AMOS, Chocolate Chip Pecan Cookies\n",
       "7863    KEEBLER, CHIPS DELUXE, Mini Chocolate Chip Coo...\n",
       "7864    KEEBLER, CHIPS DELUXE, Oatmeal Chocolate Chip ...\n",
       "7865    KEEBLER, CHIPS DELUXE, Original Chocolate Chip...\n",
       "7867    KEEBLER, CHIPS DELUXE, Rainbow Chocolate Chip ...\n",
       "7934          KEEBLER, SOFT BATCH, Chocolate Chip Cookies\n",
       "7998                     MOTHER'S, Chocolate Chip Cookies\n",
       "8079           MURRAY, SUGAR FREE, Chocolate Chip Cookies\n",
       "8130    Cookies, chocolate chip sandwich, with creme f...\n",
       "Name: Long_Desc, dtype: object"
      ]
     },
     "execution_count": 13,
     "metadata": {},
     "output_type": "execute_result"
    }
   ],
   "source": [
    "df.loc[result][\"Long_Desc\"]\n",
    "# df.iloc?[0][\"S?hrt_Desc\"]"
   ]
  },
  {
   "cell_type": "code",
   "execution_count": 14,
   "metadata": {},
   "outputs": [],
   "source": [
    "# Display info of the first item matching the search string\n",
    "# def search(term):\n",
    "#     X_term = cv.transform([term])\n",
    "#     simularities = cosine_similarity(X_term, X)\n",
    "#     idxmax = np.argmax(simularities[0])\n",
    "#     return df.loc[idxmax]\n",
    "# if __name__ == \"__main__\":\n",
    "#     term = \"doritos\"\n",
    "#     print(search(term))"
   ]
  },
  {
   "cell_type": "code",
   "execution_count": null,
   "metadata": {},
   "outputs": [],
   "source": []
  },
  {
   "cell_type": "code",
   "execution_count": 20,
   "metadata": {},
   "outputs": [
    {
     "name": "stdout",
     "output_type": "stream",
     "text": [
      "55                                                 EGGNOG\n",
      "121                                         EGG,WHL,DRIED\n",
      "125                                        EGG,YOLK,DRIED\n",
      "151                                       EGG,WHITE,DRIED\n",
      "2961                                         EGGPLANT,RAW\n",
      "5564                                           BAGELS,EGG\n",
      "5583                                            BREAD,EGG\n",
      "6043    KELLOGG'S,EGGO,BISCUIT SCRAMBLERS,BACON,EGG & CHS\n",
      "6044          KELLOGG'S,EGGO,BISCUIT SCRAMBLERS,EGG & CHS\n",
      "8673                                     EGGPLANT,PICKLED\n",
      "Name: Shrt_Desc, dtype: object\n"
     ]
    }
   ],
   "source": [
    "# Recommend 5 items similar to text in search string\n",
    "def advanced_search(term):\n",
    "    X_term = cv.transform([term])\n",
    "    simularities = cosine_similarity(X_term, X)\n",
    "    k = 10\n",
    "    result = np.sort(np.argpartition(simularities[0], len(simularities[0]) - k)[-k:])\n",
    "\n",
    "    #idxmax = np.arange(start=simularities[0], stop = simularities[5] , step=1)\n",
    "    return df.loc[result]\n",
    "if __name__ == \"__main__\":\n",
    "    term = \"egg\"\n",
    "    term1 = \"choclate cooies mnt\"\n",
    "    print(advanced_search(term)[\"Shrt_Desc\"])"
   ]
  },
  {
   "cell_type": "code",
   "execution_count": 16,
   "metadata": {},
   "outputs": [],
   "source": [
    "#X_term = cv.transform([\"butter\"])"
   ]
  },
  {
   "cell_type": "code",
   "execution_count": 17,
   "metadata": {},
   "outputs": [],
   "source": [
    "#simularities = cosine_similarity(X_term, X)"
   ]
  },
  {
   "cell_type": "code",
   "execution_count": 18,
   "metadata": {},
   "outputs": [],
   "source": [
    "#idxmax = np.argmax(simularities[0])"
   ]
  },
  {
   "cell_type": "code",
   "execution_count": 19,
   "metadata": {},
   "outputs": [],
   "source": [
    "#df.loc[idxmax]"
   ]
  }
 ],
 "metadata": {
  "kernelspec": {
   "display_name": "balanced_meal",
   "language": "python",
   "name": "balanced_meal"
  },
  "language_info": {
   "codemirror_mode": {
    "name": "ipython",
    "version": 3
   },
   "file_extension": ".py",
   "mimetype": "text/x-python",
   "name": "python",
   "nbconvert_exporter": "python",
   "pygments_lexer": "ipython3",
   "version": "3.7.6"
  }
 },
 "nbformat": 4,
 "nbformat_minor": 4
}
